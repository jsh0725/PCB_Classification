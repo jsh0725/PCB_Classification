version https://git-lfs.github.com/spec/v1
oid sha256:435c600d078a70bf8e331bf69a7a540aa151bd23e950696bca96b208299f6deb
size 1242722
